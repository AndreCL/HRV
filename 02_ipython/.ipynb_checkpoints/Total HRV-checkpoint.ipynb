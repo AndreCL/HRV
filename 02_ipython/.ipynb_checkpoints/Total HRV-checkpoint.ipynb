{
 "cells": [
  {
   "cell_type": "code",
   "execution_count": 1,
   "metadata": {
    "collapsed": false
   },
   "outputs": [],
   "source": [
    "#Import finction\n",
    "def getfile(name):\n",
    "    tempdict = {}\n",
    "    with open(name) as f:\n",
    "            for line in f:\n",
    "                line = line.replace('\\n', '')\n",
    "                line = line.split(\";\")\n",
    "                tempdict[line[0]] = float(line[1])\n",
    "    print len(tempdict)\n",
    "    return tempdict"
   ]
  },
  {
   "cell_type": "code",
   "execution_count": 2,
   "metadata": {
    "collapsed": false,
    "scrolled": false
   },
   "outputs": [
    {
     "name": "stdout",
     "output_type": "stream",
     "text": [
      "36\n",
      "36\n",
      "36\n",
      "36\n",
      "36\n",
      "38\n",
      "36\n",
      "36\n",
      "36\n",
      "36\n",
      "36\n",
      "36\n",
      "36\n",
      "36\n"
     ]
    }
   ],
   "source": [
    "#quick and dirty way\n",
    "g01 = getfile(\"2015-11-04andre\")\n",
    "g02 = getfile(\"2015-11-04jose\")\n",
    "g03 = getfile(\"2015-11-04mike\")\n",
    "g04 = getfile(\"2015-11-04trevon\")\n",
    "g05 = getfile(\"2015-11-06g1\")\n",
    "g06 = getfile(\"2015-11-06g2\")\n",
    "g07 = getfile(\"2015-11-06g3\")\n",
    "g08 = getfile(\"2015-11-06g4\")\n",
    "g09 = getfile(\"2015-11-06g5\")\n",
    "g10 = getfile(\"2015-11-06g6\")\n",
    "g11 = getfile(\"2015-11-11g7\")\n",
    "g12 = getfile(\"2015-11-11g8\")\n",
    "g13 = getfile(\"2015-11-11g9\")\n",
    "g14 = getfile(\"2015-11-11thomas\")"
   ]
  },
  {
   "cell_type": "code",
   "execution_count": 3,
   "metadata": {
    "collapsed": false
   },
   "outputs": [],
   "source": [
    "total = [g01,g02,g03,g04,g05,g06,g07,g08,g09,g10,g11,g12,g13,g14]"
   ]
  },
  {
   "cell_type": "code",
   "execution_count": 4,
   "metadata": {
    "collapsed": false
   },
   "outputs": [
    {
     "name": "stdout",
     "output_type": "stream",
     "text": [
      "[1.6671679170273568, 1.638629445711143, 3.2585492542579284, 2.628416113205786, 1.981555587512236, 5.932694462007143, 1.9832814845992857, 2.454712427292857, 3.614606770206928, 4.9807931033095, 2.341219803478571, 3.151906965065, 2.2000653546315716, 4.264022665248643, 3.506739196811271, 3.834065403710714, 2.0353424789366428, 2.854970708885571, 2.351314994126279, 1.9654220576069998, 2.188801484380071, 2.1729024799737857, 2.222035628055714, 2.265800511955357, 3.344402347025929, 1.7960525545852855, 4.143453934616572, 3.803319075015572, 2.776330012787143, 1.6437612222972142, 3.1896765347457143, 2.4217148262112143, 0.9608414392785714, 0.25134807147928573, 5.033154369278571, 4.158545677960286, 4.782089794219999, 4.601854937513714]\n"
     ]
    }
   ],
   "source": [
    "#divide by\n",
    "amount = len(total)\n",
    "#add together\n",
    "from collections import defaultdict\n",
    "def dsum(*dicts):\n",
    "    ret = defaultdict(int)\n",
    "    for d in dicts:\n",
    "        for k, v in d.items():\n",
    "            ret[k] += v\n",
    "    \n",
    "    return dict(ret)\n",
    "\n",
    "finaldict1 = dsum(g01,g02,g03,g04,g05,g06,g07,g08,g09,g10,g11,g12,g13,g14) #raw data\n",
    "finallist2 = [] #average\n",
    "\n",
    "#Average\n",
    "for i in finaldict1:\n",
    "    finallist2.append(finaldict1[i] / amount)\n",
    "    \n",
    "#degubbing    \n",
    "test = []\n",
    "for i in g14:\n",
    "    test.append(g01[i])\n",
    "    \n",
    "print finallist2"
   ]
  },
  {
   "cell_type": "code",
   "execution_count": 5,
   "metadata": {
    "collapsed": false
   },
   "outputs": [
    {
     "name": "stdout",
     "output_type": "stream",
     "text": [
      "[1.0373087074849998, 0.93217021285449997, 1.8358338895950002, 1.2302014822589999, 1.3632222677149999, 3.5319267329699997, 1.8179658587850001, 1.58353849557, 2.4567858571949999, 2.50709708667, 1.182257789001, 1.1939093859934999, 1.0119070994169999, 1.2005339668574999, 1.5088989076849999, 2.587891972565, 1.780877152185, 2.7597842667399997, 1.86374486298, 1.1179184950100001, 0.82164794909700001, 1.10929072005, 1.2373511166465001, 1.131026415075, 1.546716982495, 1.3278334863399999, 2.2512427296875002, 1.3962831521550001, 0.58656781985450002, 1.0443358355700001, 1.4746410164400001, 1.70190674483, 2.5071591242900002, 1.5541209138700001, 2.3195267878500001, 2.93959115993]\n"
     ]
    }
   ],
   "source": [
    "#mean\n",
    "import numpy as np\n",
    "medianlist = []\n",
    "\n",
    "for i1 in range(36):\n",
    "    temp = []\n",
    "    for i2 in total:\n",
    "        temp.append(i2.values()[i1])\n",
    "    medianlist.append(np.median(temp))\n",
    "\n",
    "print medianlist\n",
    "    "
   ]
  },
  {
   "cell_type": "code",
   "execution_count": 57,
   "metadata": {
    "collapsed": false
   },
   "outputs": [
    {
     "data": {
      "image/png": "[encoded data removed]",
      "text/plain": [
       "<matplotlib.figure.Figure at 0x9e252e8>"
      ]
     },
     "metadata": {},
     "output_type": "display_data"
    }
   ],
   "source": [
    "%matplotlib inline\n",
    "import matplotlib.pyplot as plt\n",
    "\n",
    "plt.figure(1)\n",
    "\n",
    "plt.subplot(211)\n",
    "\n",
    "#all dots\n",
    "for i in total:\n",
    "    temp = []\n",
    "    for i2 in i:\n",
    "        temp.append(i[i2])\n",
    "    plt.plot(temp, 'r.')\n",
    "    \n",
    "plt.xlim((0,37))\n",
    "plt.title('Raw')\n",
    "plt.subplot(212)\n",
    "\n",
    "#average\n",
    "line_one, = plt.plot(finallist2, 'g', label = 'mean')\n",
    "line_two, = plt.plot(medianlist, 'b', label = 'median')\n",
    "\n",
    "plt.ylim((0,7))\n",
    "plt.xlim((0,37))\n",
    "\n",
    "plt.title('Results')\n",
    "plt.legend(bbox_to_anchor=(1, 1), handles=[line_one, line_two],prop={'size':6})\n",
    "plt.ylabel('LF/HF')\n",
    "\n",
    "plt.axvspan(9, 15.8, facecolor='y', alpha=1)\n",
    "plt.axvspan(17.6, 21.85, facecolor='y', alpha=1)\n",
    "plt.axvspan(23.25, 28.7, facecolor='y', alpha=1)\n",
    "\n",
    "\n",
    "plt.tight_layout()\n",
    "\n",
    "plt.savefig('graph1.png', dpi=1000, transparent=True)"
   ]
  },
  {
   "cell_type": "code",
   "execution_count": 71,
   "metadata": {
    "collapsed": false
   },
   "outputs": [
    {
     "name": "stdout",
     "output_type": "stream",
     "text": [
      "1.4.3\n"
     ]
    }
   ],
   "source": [
    "import matplotlib\n",
    "print matplotlib.__version__"
   ]
  },
  {
   "cell_type": "code",
   "execution_count": null,
   "metadata": {
    "collapsed": true
   },
   "outputs": [],
   "source": []
  }
 ],
 "metadata": {
  "kernelspec": {
   "display_name": "Python 2",
   "language": "python",
   "name": "python2"
  },
  "language_info": {
   "codemirror_mode": {
    "name": "ipython",
    "version": 2
   },
   "file_extension": ".py",
   "mimetype": "text/x-python",
   "name": "python",
   "nbconvert_exporter": "python",
   "pygments_lexer": "ipython2",
   "version": "2.7.10"
  }
 },
 "nbformat": 4,
 "nbformat_minor": 0
}
